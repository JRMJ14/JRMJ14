{
  "nbformat": 4,
  "nbformat_minor": 0,
  "metadata": {
    "colab": {
      "provenance": [],
      "authorship_tag": "ABX9TyMPd70zyMQ3KuYpRy+Va2XR",
      "include_colab_link": true
    },
    "kernelspec": {
      "name": "python3",
      "display_name": "Python 3"
    },
    "language_info": {
      "name": "python"
    }
  },
  "cells": [
    {
      "cell_type": "markdown",
      "metadata": {
        "id": "view-in-github",
        "colab_type": "text"
      },
      "source": [
        "<a href=\"https://colab.research.google.com/github/JRMJ14/JRMJ14/blob/main/clima.ipynb\" target=\"_parent\"><img src=\"https://colab.research.google.com/assets/colab-badge.svg\" alt=\"Open In Colab\"/></a>"
      ]
    },
    {
      "cell_type": "code",
      "execution_count": 1,
      "metadata": {
        "colab": {
          "base_uri": "https://localhost:8080/"
        },
        "id": "exWN7F3Rsxsk",
        "outputId": "2cd18530-bde4-4d47-d028-33773720e7e4"
      },
      "outputs": [
        {
          "output_type": "stream",
          "name": "stdout",
          "text": [
            "Collecting gymnasium\n",
            "  Downloading gymnasium-1.0.0-py3-none-any.whl.metadata (9.5 kB)\n",
            "Requirement already satisfied: numpy>=1.21.0 in /usr/local/lib/python3.10/dist-packages (from gymnasium) (1.26.4)\n",
            "Requirement already satisfied: cloudpickle>=1.2.0 in /usr/local/lib/python3.10/dist-packages (from gymnasium) (3.1.0)\n",
            "Requirement already satisfied: typing-extensions>=4.3.0 in /usr/local/lib/python3.10/dist-packages (from gymnasium) (4.12.2)\n",
            "Collecting farama-notifications>=0.0.1 (from gymnasium)\n",
            "  Downloading Farama_Notifications-0.0.4-py3-none-any.whl.metadata (558 bytes)\n",
            "Downloading gymnasium-1.0.0-py3-none-any.whl (958 kB)\n",
            "\u001b[2K   \u001b[90m━━━━━━━━━━━━━━━━━━━━━━━━━━━━━━━━━━━━━━━━\u001b[0m \u001b[32m958.1/958.1 kB\u001b[0m \u001b[31m12.0 MB/s\u001b[0m eta \u001b[36m0:00:00\u001b[0m\n",
            "\u001b[?25hDownloading Farama_Notifications-0.0.4-py3-none-any.whl (2.5 kB)\n",
            "Installing collected packages: farama-notifications, gymnasium\n",
            "Successfully installed farama-notifications-0.0.4 gymnasium-1.0.0\n"
          ]
        }
      ],
      "source": [
        "!pip install gymnasium"
      ]
    },
    {
      "cell_type": "markdown",
      "source": [
        "**Rutas de navegacion**\n",
        "\n",
        "juego donde puedes implementar un entorno que simule diferentes condiciones climáticas donde el agente deba tomar decisiones sobre cómo navegar, por ejemplo, rutas de navegación por aire o mar que eviten condiciones peligrosas."
      ],
      "metadata": {
        "id": "_BWrLVeB-5_A"
      }
    },
    {
      "cell_type": "code",
      "source": [
        "#importamos las respectivas librerias necesarias para el desarrollo del entorno\n",
        "import gymnasium as gym\n",
        "import numpy as np\n",
        "import random"
      ],
      "metadata": {
        "id": "CvsglqtCth24"
      },
      "execution_count": 2,
      "outputs": []
    },
    {
      "cell_type": "code",
      "source": [
        "class NavigationEnv(gym.Env):\n",
        "    def __init__(self):\n",
        "        super(NavigationEnv, self).__init__()\n",
        "\n",
        "        # Tamaño del entorno de navegación (10x10)\n",
        "        self.grid_size = 10\n",
        "\n",
        "        # Espacio de observación: todas las posiciones posibles (10x10 = 100 estados)\n",
        "        self.observation_space = gym.spaces.Discrete(self.grid_size ** 2)\n",
        "\n",
        "        # Espacio de acción: arriba, abajo, izquierda, derecha\n",
        "        self.action_space = gym.spaces.Discrete(4)\n",
        "\n",
        "        # Definir punto de inicio y destino\n",
        "        self.start_position = (0, 0)\n",
        "        self.goal_position = (9, 9)\n",
        "\n",
        "        # Zonas de clima adverso (ubicaciones peligrosas)\n",
        "        self.bad_weather_zones = [(3, 3), (4, 5), (6, 6), (7, 2), (8, 8)]\n",
        "\n",
        "        # Estado inicial del agente\n",
        "        self.state = self.start_position\n",
        "\n",
        "    def reset(self, seed=None):\n",
        "        super().reset(seed=seed)\n",
        "        self.state = (random.randint(0, self.grid_size - 1), random.randint(0, self.grid_size - 1))  # Reiniciar el agente al inicio\n",
        "        #self.state = self.start_position  # Reiniciar el agente al inicio\n",
        "        return self._get_state_index(self.state), {}\n",
        "\n",
        "    def step(self, action):\n",
        "        x, y = self.state\n",
        "\n",
        "        # Movimiento basado en la acción seleccionada\n",
        "        if action == 0 and y > 0:          # Arriba\n",
        "            y -= 1\n",
        "        elif action == 1 and y < self.grid_size - 1:  # Abajo\n",
        "            y += 1\n",
        "        elif action == 2 and x > 0:        # Izquierda\n",
        "            x -= 1\n",
        "        elif action == 3 and x < self.grid_size - 1:  # Derecha\n",
        "            x += 1\n",
        "\n",
        "        # Actualizar el estado del agente\n",
        "        self.state = (x, y)\n",
        "\n",
        "        # Recompensas y finalización\n",
        "        reward = -1  # Penalización por cada paso\n",
        "        done = False\n",
        "\n",
        "        # Si alcanza el destino, gran recompensa\n",
        "        if self.state == self.goal_position:\n",
        "            reward = 20\n",
        "            done = True\n",
        "        # Penalización adicional por entrar en clima peligroso\n",
        "        elif self.state in self.bad_weather_zones:\n",
        "            reward = -10\n",
        "\n",
        "        return self._get_state_index(self.state), reward, done, False, {}\n",
        "\n",
        "    def _get_state_index(self, position):\n",
        "        \"\"\"Convierte una posición (x, y) a un índice único para la Q-table.\"\"\"\n",
        "        return position[0] * self.grid_size + position[1]"
      ],
      "metadata": {
        "id": "8-tGGqFotlJO"
      },
      "execution_count": 3,
      "outputs": []
    },
    {
      "cell_type": "code",
      "source": [
        "# Crear el entorno\n",
        "env = NavigationEnv()"
      ],
      "metadata": {
        "id": "C170E5-Ott3L"
      },
      "execution_count": 5,
      "outputs": []
    },
    {
      "cell_type": "code",
      "source": [
        "# Parámetros de aprendizaje Q-Learning\n",
        "q_table = np.zeros([env.observation_space.n, env.action_space.n])  # Tabla Q inicial\n",
        "alpha = 0.1       # Tasa de aprendizaje\n",
        "gamma = 0.9       # Factor de descuento\n",
        "epsilon = 1.0     # Factor de exploración inicial\n",
        "epsilon_decay = 0.800  # Decaimiento de epsilon para reducir la exploración\n",
        "min_epsilon = 0.01"
      ],
      "metadata": {
        "id": "K_gqyJJ-uZWF"
      },
      "execution_count": 6,
      "outputs": []
    },
    {
      "cell_type": "code",
      "source": [
        "# Entrenamiento del agente\n",
        "num_episodes = 1000\n",
        "for episode in range(num_episodes):\n",
        "    state, _ = env.reset()\n",
        "    done = False\n",
        "\n",
        "    while not done:\n",
        "        # Elegir acción (exploración vs explotación)\n",
        "        if random.uniform(0, 1) < epsilon:\n",
        "            action = env.action_space.sample()  # Exploración\n",
        "        else:\n",
        "            action = np.argmax(q_table[state])  # Explotación\n",
        "\n",
        "        # Ejecutar la acción en el entorno\n",
        "        next_state, reward, done, _, _ = env.step(action)\n",
        "\n",
        "        # Actualizar la Q-table\n",
        "        best_next_action = np.argmax(q_table[next_state])\n",
        "        td_target = reward + gamma * q_table[next_state, best_next_action]\n",
        "        td_error = td_target - q_table[state, action]\n",
        "        q_table[state, action] += alpha * td_error\n",
        "\n",
        "        # Avanzar al siguiente estado\n",
        "        state = next_state\n",
        "\n",
        "    # Decaer epsilon después de cada episodio\n",
        "    epsilon = max(min_epsilon, epsilon * epsilon_decay)\n",
        "\n",
        "print(\"Entrenamiento completado.\")"
      ],
      "metadata": {
        "colab": {
          "base_uri": "https://localhost:8080/"
        },
        "id": "YwC876Q2ubcE",
        "outputId": "f6124e67-dbb7-46e9-b617-6cbace7e353c"
      },
      "execution_count": 7,
      "outputs": [
        {
          "output_type": "stream",
          "name": "stdout",
          "text": [
            "Entrenamiento completado.\n"
          ]
        }
      ]
    },
    {
      "cell_type": "code",
      "source": [
        "# Evaluación del agente\n",
        "test_episodes = 10\n",
        "for episode in range(test_episodes):\n",
        "    state, _ = env.reset()\n",
        "    done = False\n",
        "    total_reward = 0\n",
        "    while not done:\n",
        "        action = np.argmax(q_table[state])  # Elegir la mejor acción\n",
        "        next_state, reward, done, _, _ = env.step(action)\n",
        "        total_reward += reward\n",
        "        state = next_state\n",
        "    print(f\"Recompensa total en episodio de prueba {episode + 1}: {total_reward}\")"
      ],
      "metadata": {
        "colab": {
          "base_uri": "https://localhost:8080/"
        },
        "id": "DEjH0ZHHueZr",
        "outputId": "432ac082-2a29-45a1-b378-600958f31060"
      },
      "execution_count": 8,
      "outputs": [
        {
          "output_type": "stream",
          "name": "stdout",
          "text": [
            "Recompensa total en episodio de prueba 1: 11\n",
            "Recompensa total en episodio de prueba 2: 9\n",
            "Recompensa total en episodio de prueba 3: 12\n",
            "Recompensa total en episodio de prueba 4: 13\n",
            "Recompensa total en episodio de prueba 5: 13\n",
            "Recompensa total en episodio de prueba 6: 19\n",
            "Recompensa total en episodio de prueba 7: 15\n",
            "Recompensa total en episodio de prueba 8: 18\n",
            "Recompensa total en episodio de prueba 9: 17\n",
            "Recompensa total en episodio de prueba 10: 6\n"
          ]
        }
      ]
    },
    {
      "cell_type": "code",
      "source": [
        "print(\"Tabla Q después del entrenamiento:\")\n",
        "print(q_table)"
      ],
      "metadata": {
        "colab": {
          "base_uri": "https://localhost:8080/"
        },
        "id": "-Xv7pe4-dVc3",
        "outputId": "e00d3a43-2efa-472e-c224-c2d7da355175"
      },
      "execution_count": 9,
      "outputs": [
        {
          "output_type": "stream",
          "name": "stdout",
          "text": [
            "Tabla Q después del entrenamiento:\n",
            "[[-4.61504326e+00 -4.62458195e+00 -4.62682738e+00 -4.63551231e+00]\n",
            " [-4.57771535e+00 -4.51647896e+00 -4.53693923e+00 -4.52611073e+00]\n",
            " [-4.37659201e+00 -4.35425810e+00 -4.33089925e+00 -4.33054615e+00]\n",
            " [-4.16804382e+00 -4.14095654e+00 -4.12533197e+00 -3.98428916e+00]\n",
            " [-3.88534746e+00 -3.84682325e+00 -3.88321588e+00 -3.67921097e+00]\n",
            " [-3.56211610e+00 -2.90512084e+00 -3.55959188e+00 -3.51728190e+00]\n",
            " [-3.24227722e+00 -3.19864911e+00 -3.20863167e+00 -6.42985947e-01]\n",
            " [-2.96588055e+00 -2.94368152e+00 -2.96537260e+00 -2.83686957e+00]\n",
            " [-2.75149307e+00 -2.62522624e+00 -2.80523290e+00 -2.74141369e+00]\n",
            " [-2.58594009e+00 -2.58343578e+00 -2.60073021e+00 -7.45476567e-01]\n",
            " [-4.51943816e+00 -4.52752717e+00 -4.53254927e+00 -4.55590326e+00]\n",
            " [-4.44310272e+00 -4.42293050e+00 -4.43923771e+00 -4.43596524e+00]\n",
            " [-4.19735312e+00 -3.77527853e+00 -4.18989880e+00 -4.18515436e+00]\n",
            " [-3.90789486e+00 -2.05890900e+00 -3.95053631e+00 -3.90854465e+00]\n",
            " [-3.62260176e+00 -3.60968647e+00 -3.64697939e+00  1.52218802e-01]\n",
            " [-3.35080570e+00 -3.32393428e+00 -3.35878195e+00 -1.83685793e+00]\n",
            " [-3.07874452e+00 -2.95223926e+00 -2.94814548e+00  2.74249763e+00]\n",
            " [-2.67633694e+00 -2.65833628e+00 -2.66862372e+00 -3.53971114e-01]\n",
            " [-2.50728526e+00 -1.19433095e+00 -2.46324397e+00 -2.47313457e+00]\n",
            " [-2.21249868e+00 -2.28825267e+00 -2.27681686e+00  3.99151024e+00]\n",
            " [-4.39860768e+00 -4.38618898e+00 -4.39409104e+00 -4.38585125e+00]\n",
            " [-4.19121691e+00 -3.80052803e+00 -4.24776568e+00 -4.21874576e+00]\n",
            " [-3.99172851e+00 -2.07446524e+00 -4.00941202e+00 -3.97939129e+00]\n",
            " [-3.75420064e+00  3.02210047e-01 -3.79342613e+00 -5.87190267e+00]\n",
            " [-3.38495469e+00  2.51076876e+00 -3.43068036e+00 -3.37917914e+00]\n",
            " [-2.76706428e+00  4.17334638e+00 -3.08663645e+00 -3.02968939e+00]\n",
            " [-2.47276164e+00 -2.34136064e+00 -2.71663053e+00  5.97950509e+00]\n",
            " [-2.33544766e+00 -2.34198182e+00 -2.35378159e+00  5.61235873e+00]\n",
            " [-2.09881448e+00 -1.82140191e+00 -2.15362833e+00  8.85320285e-01]\n",
            " [-1.84670331e+00 -1.87590338e+00 -1.85688045e+00  8.12888606e+00]\n",
            " [-4.19450910e+00 -4.16137753e+00 -4.21924597e+00 -4.14570068e+00]\n",
            " [-4.06517375e+00 -4.01204241e+00 -4.01088447e+00 -3.88711282e+00]\n",
            " [-3.83197937e+00 -4.28253272e+00 -3.80734947e+00 -3.42583188e+00]\n",
            " [-1.47910583e+00 -1.38559224e+00 -1.46430385e+00 -1.29252254e+00]\n",
            " [-3.51581806e+00 -3.05315097e-01 -2.69770233e+00 -3.09128443e+00]\n",
            " [-2.83407664e+00  4.25865881e+00 -2.81680019e+00 -5.82102328e+00]\n",
            " [-2.32217631e+00  7.99335093e+00 -2.36528856e+00 -2.28860893e+00]\n",
            " [-1.75281074e+00 -1.72930158e+00 -2.01503722e+00  1.02431046e+01]\n",
            " [-1.66464540e+00 -1.63357125e+00 -1.67041200e+00  7.00377441e+00]\n",
            " [-1.42542066e+00 -1.38419104e+00 -7.75313442e-01  1.22539762e+01]\n",
            " [-3.88873592e+00 -3.52614713e+00 -3.89442059e+00 -3.86413435e+00]\n",
            " [-3.74532281e+00 -1.64450129e+00 -3.73143308e+00 -3.72773328e+00]\n",
            " [-3.48893675e+00 -3.46349686e+00 -3.48266661e+00  1.14925870e+00]\n",
            " [-3.10384790e+00 -3.08682397e+00 -6.22665154e+00  5.76149937e-01]\n",
            " [-2.83885531e+00 -6.24308349e+00 -2.84452107e+00  7.25895953e-01]\n",
            " [-9.35037518e-01 -9.23050572e-01 -1.00627367e+00 -7.71294110e-01]\n",
            " [-5.76022137e+00  3.40966713e+00 -1.96847472e+00 -1.91482809e+00]\n",
            " [-1.58895729e+00 -1.07374692e+00 -8.08089285e-01  1.27813686e+01]\n",
            " [-1.21237505e+00 -1.21798811e+00 -1.30823508e+00  1.28753430e+01]\n",
            " [-9.76317928e-01 -1.03026421e+00 -1.05077871e+00  1.66571501e+01]\n",
            " [-3.63518202e+00 -3.22088626e+00 -3.62213462e+00 -3.64452986e+00]\n",
            " [-3.45357929e+00 -2.73668272e-01 -3.46994191e+00 -3.45713576e+00]\n",
            " [-3.16931329e+00 -3.12860650e+00 -3.16344298e+00  3.78520650e+00]\n",
            " [-2.83411669e+00 -1.93290954e+00 -2.79675844e+00  4.48760953e+00]\n",
            " [-2.41280622e+00 -2.39720164e+00 -2.46819113e+00  6.05472314e+00]\n",
            " [-1.99494767e+00  3.01589460e+00 -4.17657799e+00 -1.97525287e+00]\n",
            " [-1.71217980e+00  1.03842017e+01 -1.71255289e+00 -3.46420000e+00]\n",
            " [-1.29792490e+00  3.11506314e-01 -2.97933428e-01  1.55812199e+01]\n",
            " [-8.90491006e-01  1.42728532e+00 -9.34252850e-01  1.74571282e+01]\n",
            " [-6.86868638e-01 -6.79346521e-01 -7.09414404e-01  2.10903027e+01]\n",
            " [-3.43938367e+00 -1.94233084e+00 -3.43360022e+00 -3.39501675e+00]\n",
            " [-3.21325582e+00  2.77288777e+00 -3.21879285e+00 -3.15560902e+00]\n",
            " [-2.84688924e+00  5.71534417e+00 -2.87212082e+00 -6.64676134e+00]\n",
            " [-2.04743858e+00  7.65069455e+00 -2.50738096e+00 -2.39797303e+00]\n",
            " [-2.07737929e+00 -1.99607264e+00 -1.98287769e+00  9.76914201e+00]\n",
            " [-1.75244273e+00 -3.46646800e+00 -1.75468733e+00  6.38390657e+00]\n",
            " [-4.80389360e-01  3.22477458e+00 -4.92013080e-01 -5.16475158e-01]\n",
            " [-2.76217753e+00  1.86304189e+01 -2.50383631e-01 -7.79544047e-01]\n",
            " [ 5.76823845e-01  2.19431983e+01  1.08294377e+00  2.01730456e+00]\n",
            " [-3.05824339e-01  3.83364208e+00  1.10410462e+00  2.55500693e+01]\n",
            " [-3.28795004e+00 -3.10808516e+00 -3.24665958e+00 -3.23965588e+00]\n",
            " [-3.07260472e+00 -5.33131254e+00 -1.10086036e+00 -3.05946473e+00]\n",
            " [-1.00933207e+00 -6.01399502e-01 -8.59506254e-01 -8.21716850e-01]\n",
            " [-3.47878000e+00  4.61755059e+00 -2.02085351e+00 -2.00169873e+00]\n",
            " [-1.65945340e+00  1.21611111e+01 -1.62548303e+00 -1.60628231e+00]\n",
            " [-1.31513136e+00 -1.27077925e+00 -8.55323344e-01  1.49062613e+01]\n",
            " [-9.67128921e-01  4.19022173e+00 -2.72936800e+00 -9.12517212e-01]\n",
            " [-5.94378209e-01  1.29918655e+01 -5.79911731e-01 -5.50269424e-01]\n",
            " [-4.10639230e-01  2.31403264e+01 -3.88724761e-01 -1.90090000e+00]\n",
            " [ 4.64735709e-01 -3.41881165e-01  1.09907261e+00  2.95150253e+01]\n",
            " [-2.96465995e+00 -2.71887112e+00 -2.92418087e+00 -2.92696887e+00]\n",
            " [-2.63175219e+00 -3.91638463e-01 -2.65164745e+00 -2.63125488e+00]\n",
            " [-2.14851960e+00 -2.10997674e+00 -6.23880827e+00  5.11939270e+00]\n",
            " [-1.70913758e+00  2.97157394e+00 -1.74589162e+00 -1.69770921e+00]\n",
            " [-1.31955604e+00  1.06436833e+01 -1.37069085e+00 -1.31758231e+00]\n",
            " [-1.02936856e+00 -9.51558952e-01 -1.75759665e-02  1.80636378e+01]\n",
            " [-7.10785407e-01 -6.18716233e-01 -6.66665618e-01  1.07865555e+01]\n",
            " [-3.91780000e-01 -2.71900000e+00 -3.69100000e-01  1.65048569e+01]\n",
            " [-1.09000000e-01 -1.90000000e-01 -1.00000000e-01  1.63394214e+01]\n",
            " [-1.90622758e+00  2.78069601e+00 -1.90000000e-01  3.39078424e+01]\n",
            " [-2.74461148e+00 -1.40351119e+00 -2.69728619e+00 -2.68875982e+00]\n",
            " [-2.38364458e+00  3.34459383e+00 -2.41059184e+00 -2.32595194e+00]\n",
            " [-1.78127245e+00  1.01087771e+01 -1.89483546e+00 -1.93551084e+00]\n",
            " [-1.42223799e+00  1.37768779e+01 -1.50303879e+00 -1.54157486e+00]\n",
            " [-1.08272871e+00  1.76616817e+01 -1.15421589e+00 -1.13880720e+00]\n",
            " [ 1.34048553e-01  2.16546234e+01 -7.48037140e-01 -7.72553056e-01]\n",
            " [ 2.73439778e-01  2.54157228e+01 -5.36905949e-01 -3.94039900e-01]\n",
            " [ 7.18962027e+00  2.94815269e+01  5.18857329e-01  3.56166440e+00]\n",
            " [ 7.97443443e+00  3.39011368e+01 -1.00090000e+00 -2.71000000e-01]\n",
            " [ 1.54533891e+01  0.00000000e+00  0.00000000e+00  0.00000000e+00]]\n"
          ]
        }
      ]
    },
    {
      "cell_type": "code",
      "source": [],
      "metadata": {
        "id": "_6IOMNwgYHw5"
      },
      "execution_count": 11,
      "outputs": []
    }
  ]
}