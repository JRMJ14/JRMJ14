{
  "nbformat": 4,
  "nbformat_minor": 0,
  "metadata": {
    "colab": {
      "provenance": [],
      "authorship_tag": "ABX9TyPUFMVzIs+xoMKZWOObWAV8",
      "include_colab_link": true
    },
    "kernelspec": {
      "name": "python3",
      "display_name": "Python 3"
    },
    "language_info": {
      "name": "python"
    }
  },
  "cells": [
    {
      "cell_type": "markdown",
      "metadata": {
        "id": "view-in-github",
        "colab_type": "text"
      },
      "source": [
        "<a href=\"https://colab.research.google.com/github/JRMJ14/JRMJ14/blob/main/clima.ipynb\" target=\"_parent\"><img src=\"https://colab.research.google.com/assets/colab-badge.svg\" alt=\"Open In Colab\"/></a>"
      ]
    },
    {
      "cell_type": "code",
      "execution_count": 1,
      "metadata": {
        "colab": {
          "base_uri": "https://localhost:8080/"
        },
        "id": "exWN7F3Rsxsk",
        "outputId": "b6baee7e-65ba-4a47-a12d-4a7bd3789e41"
      },
      "outputs": [
        {
          "output_type": "stream",
          "name": "stdout",
          "text": [
            "Collecting gymnasium\n",
            "  Downloading gymnasium-1.0.0-py3-none-any.whl.metadata (9.5 kB)\n",
            "Requirement already satisfied: numpy>=1.21.0 in /usr/local/lib/python3.10/dist-packages (from gymnasium) (1.26.4)\n",
            "Requirement already satisfied: cloudpickle>=1.2.0 in /usr/local/lib/python3.10/dist-packages (from gymnasium) (3.1.0)\n",
            "Requirement already satisfied: typing-extensions>=4.3.0 in /usr/local/lib/python3.10/dist-packages (from gymnasium) (4.12.2)\n",
            "Collecting farama-notifications>=0.0.1 (from gymnasium)\n",
            "  Downloading Farama_Notifications-0.0.4-py3-none-any.whl.metadata (558 bytes)\n",
            "Downloading gymnasium-1.0.0-py3-none-any.whl (958 kB)\n",
            "\u001b[2K   \u001b[90m━━━━━━━━━━━━━━━━━━━━━━━━━━━━━━━━━━━━━━━━\u001b[0m \u001b[32m958.1/958.1 kB\u001b[0m \u001b[31m8.8 MB/s\u001b[0m eta \u001b[36m0:00:00\u001b[0m\n",
            "\u001b[?25hDownloading Farama_Notifications-0.0.4-py3-none-any.whl (2.5 kB)\n",
            "Installing collected packages: farama-notifications, gymnasium\n",
            "Successfully installed farama-notifications-0.0.4 gymnasium-1.0.0\n"
          ]
        }
      ],
      "source": [
        "!pip install gymnasium"
      ]
    },
    {
      "cell_type": "markdown",
      "source": [
        "**Rutas de navegacion**\n",
        "\n",
        "juego donde puedes implementar un entorno que simule diferentes condiciones climáticas donde el agente deba tomar decisiones sobre cómo navegar, por ejemplo, rutas de navegación por aire o mar que eviten condiciones peligrosas."
      ],
      "metadata": {
        "id": "_BWrLVeB-5_A"
      }
    },
    {
      "cell_type": "code",
      "source": [
        "#importamos las respectivas librerias necesarias para el desarrollo del entorno\n",
        "import gymnasium as gym\n",
        "import numpy as np\n",
        "import random"
      ],
      "metadata": {
        "id": "CvsglqtCth24"
      },
      "execution_count": 2,
      "outputs": []
    },
    {
      "cell_type": "code",
      "source": [
        "class NavigationEnv(gym.Env):\n",
        "    def __init__(self):\n",
        "        super(NavigationEnv, self).__init__()\n",
        "\n",
        "        # Tamaño del entorno de navegación (10x10)\n",
        "        self.grid_size = 10\n",
        "\n",
        "        # Espacio de observación: todas las posiciones posibles (10x10 = 100 estados)\n",
        "        self.observation_space = gym.spaces.Discrete(self.grid_size ** 2)\n",
        "\n",
        "        # Espacio de acción: arriba, abajo, izquierda, derecha\n",
        "        self.action_space = gym.spaces.Discrete(4)\n",
        "\n",
        "        # Definir punto de inicio y destino\n",
        "        self.start_position = (0, 0)\n",
        "        self.goal_position = (9, 9)\n",
        "\n",
        "        # Zonas de clima adverso (ubicaciones peligrosas)\n",
        "        self.bad_weather_zones = [(3, 3), (4, 5), (6, 6), (7, 2), (8, 8)]\n",
        "\n",
        "        # Estado inicial del agente\n",
        "        self.state = self.start_position\n",
        "\n",
        "    def reset(self, seed=None):\n",
        "        super().reset(seed=seed)\n",
        "        self.state = (random.randint(0, self.grid_size - 1), random.randint(0, self.grid_size - 1))  # Reiniciar el agente al inicio\n",
        "        #self.state = self.start_position  # Reiniciar el agente al inicio\n",
        "        return self._get_state_index(self.state), {}\n",
        "\n",
        "    def step(self, action):\n",
        "        x, y = self.state\n",
        "\n",
        "        # Movimiento basado en la acción seleccionada\n",
        "        if action == 0 and y > 0:          # Arriba\n",
        "            y -= 1\n",
        "        elif action == 1 and y < self.grid_size - 1:  # Abajo\n",
        "            y += 1\n",
        "        elif action == 2 and x > 0:        # Izquierda\n",
        "            x -= 1\n",
        "        elif action == 3 and x < self.grid_size - 1:  # Derecha\n",
        "            x += 1\n",
        "\n",
        "        # Actualizar el estado del agente\n",
        "        self.state = (x, y)\n",
        "\n",
        "        # Recompensas y finalización\n",
        "        reward = -1  # Penalización por cada paso\n",
        "        done = False\n",
        "\n",
        "        # Si alcanza el destino, gran recompensa\n",
        "        if self.state == self.goal_position:\n",
        "            reward = 20\n",
        "            done = True\n",
        "        # Penalización adicional por entrar en clima peligroso\n",
        "        elif self.state in self.bad_weather_zones:\n",
        "            reward = -10\n",
        "\n",
        "        return self._get_state_index(self.state), reward, done, False, {}\n",
        "\n",
        "    def _get_state_index(self, position):\n",
        "        \"\"\"Convierte una posición (x, y) a un índice único para la Q-table.\"\"\"\n",
        "        return position[0] * self.grid_size + position[1]"
      ],
      "metadata": {
        "id": "8-tGGqFotlJO"
      },
      "execution_count": 3,
      "outputs": []
    },
    {
      "cell_type": "code",
      "source": [
        "# Crear el entorno\n",
        "env = NavigationEnv()"
      ],
      "metadata": {
        "id": "C170E5-Ott3L"
      },
      "execution_count": 4,
      "outputs": []
    },
    {
      "cell_type": "code",
      "source": [
        "# Parámetros de aprendizaje Q-Learning\n",
        "q_table = np.zeros([env.observation_space.n, env.action_space.n])  # Tabla Q inicial\n",
        "alpha = 0.1       # Tasa de aprendizaje\n",
        "gamma = 0.9       # Factor de descuento\n",
        "epsilon = 1.0     # Factor de exploración inicial\n",
        "epsilon_decay = 0.800  # Decaimiento de epsilon para reducir la exploración\n",
        "min_epsilon = 0.01"
      ],
      "metadata": {
        "id": "K_gqyJJ-uZWF"
      },
      "execution_count": 8,
      "outputs": []
    },
    {
      "cell_type": "code",
      "source": [
        "# Entrenamiento del agente\n",
        "num_episodes = 1000\n",
        "for episode in range(num_episodes):\n",
        "    state, _ = env.reset()\n",
        "    done = False\n",
        "\n",
        "    while not done:\n",
        "        # Elegir acción (exploración vs explotación)\n",
        "        if random.uniform(0, 1) < epsilon:\n",
        "            action = env.action_space.sample()  # Exploración\n",
        "        else:\n",
        "            action = np.argmax(q_table[state])  # Explotación\n",
        "\n",
        "        # Ejecutar la acción en el entorno\n",
        "        next_state, reward, done, _, _ = env.step(action)\n",
        "\n",
        "        # Actualizar la Q-table\n",
        "        best_next_action = np.argmax(q_table[next_state])\n",
        "        td_target = reward + gamma * q_table[next_state, best_next_action]\n",
        "        td_error = td_target - q_table[state, action]\n",
        "        q_table[state, action] += alpha * td_error\n",
        "\n",
        "        # Avanzar al siguiente estado\n",
        "        state = next_state\n",
        "\n",
        "    # Decaer epsilon después de cada episodio\n",
        "    epsilon = max(min_epsilon, epsilon * epsilon_decay)\n",
        "\n",
        "print(\"Entrenamiento completado.\")"
      ],
      "metadata": {
        "colab": {
          "base_uri": "https://localhost:8080/"
        },
        "id": "YwC876Q2ubcE",
        "outputId": "63d20747-6569-43d0-9a11-d04bd89782fc"
      },
      "execution_count": 9,
      "outputs": [
        {
          "output_type": "stream",
          "name": "stdout",
          "text": [
            "Entrenamiento completado.\n"
          ]
        }
      ]
    },
    {
      "cell_type": "code",
      "source": [
        "# Evaluación del agente\n",
        "test_episodes = 10\n",
        "for episode in range(test_episodes):\n",
        "    state, _ = env.reset()\n",
        "    done = False\n",
        "    total_reward = 0\n",
        "    while not done:\n",
        "        action = np.argmax(q_table[state])  # Elegir la mejor acción\n",
        "        next_state, reward, done, _, _ = env.step(action)\n",
        "        total_reward += reward\n",
        "        state = next_state\n",
        "    print(f\"Recompensa total en episodio de prueba {episode + 1}: {total_reward}\")"
      ],
      "metadata": {
        "colab": {
          "base_uri": "https://localhost:8080/"
        },
        "id": "DEjH0ZHHueZr",
        "outputId": "9d72bf0b-78fb-4175-974d-65d375907b2e"
      },
      "execution_count": 11,
      "outputs": [
        {
          "output_type": "stream",
          "name": "stdout",
          "text": [
            "Recompensa total en episodio de prueba 1: 9\n",
            "Recompensa total en episodio de prueba 2: 14\n",
            "Recompensa total en episodio de prueba 3: 5\n",
            "Recompensa total en episodio de prueba 4: 6\n",
            "Recompensa total en episodio de prueba 5: 18\n",
            "Recompensa total en episodio de prueba 6: 12\n",
            "Recompensa total en episodio de prueba 7: 19\n",
            "Recompensa total en episodio de prueba 8: 16\n",
            "Recompensa total en episodio de prueba 9: 12\n",
            "Recompensa total en episodio de prueba 10: 6\n"
          ]
        }
      ]
    },
    {
      "cell_type": "code",
      "source": [
        "print(\"Tabla Q después del entrenamiento:\")\n",
        "print(q_table)"
      ],
      "metadata": {
        "colab": {
          "base_uri": "https://localhost:8080/"
        },
        "id": "-Xv7pe4-dVc3",
        "outputId": "2c369401-51cc-4f24-ee74-8fe66ac066c4"
      },
      "execution_count": null,
      "outputs": [
        {
          "output_type": "stream",
          "name": "stdout",
          "text": [
            "Tabla Q después del entrenamiento:\n",
            "[[-5.81836833e+00 -4.99684549e+00 -6.30964907e+00 -6.30707489e+00]\n",
            " [-5.73106759e+00 -4.44093943e+00 -5.23545757e+00 -5.71700325e+00]\n",
            " [-5.35528875e+00 -3.82326604e+00 -5.18886588e+00 -4.65676547e+00]\n",
            " [-4.92725472e+00 -4.01325454e+00 -4.33895207e+00 -3.13696226e+00]\n",
            " [-4.65060356e+00 -4.74019778e+00 -4.76424456e+00 -2.59452468e+00]\n",
            " [-4.50186927e+00 -4.41794328e+00 -4.43458822e+00 -4.40599285e+00]\n",
            " [-4.12874081e+00 -4.06748588e+00 -4.15102218e+00 -4.05967182e+00]\n",
            " [-3.77560280e+00 -3.73580092e+00 -3.77329459e+00 -3.70261341e+00]\n",
            " [-3.48505568e+00 -3.47459766e+00 -3.46577926e+00 -3.51692962e+00]\n",
            " [-3.31613058e+00 -3.29183187e+00 -3.27395769e+00 -3.32670318e+00]\n",
            " [-5.99161165e+00 -5.68505572e+00 -6.13966109e+00 -5.96194583e+00]\n",
            " [-5.65853290e+00 -4.48754665e+00 -5.68003219e+00 -5.61738472e+00]\n",
            " [-5.33933783e+00 -3.20451075e+00 -5.32851836e+00 -5.26106517e+00]\n",
            " [-4.61555908e+00 -2.37440252e+00 -4.37678988e+00 -3.65109827e+00]\n",
            " [-3.70640087e+00 -4.63257118e+00 -4.18563204e+00 -1.52711391e+00]\n",
            " [-4.20876044e+00 -3.85580318e+00 -4.29943881e+00 -4.21356312e+00]\n",
            " [-3.83885727e+00 -3.80874471e+00 -3.87721890e+00 -2.30465175e+00]\n",
            " [-3.54209378e+00 -3.60919465e+00 -3.73502330e+00 -2.28184902e+00]\n",
            " [-3.36832547e+00 -3.34210127e+00 -3.35401805e+00 -3.38824946e+00]\n",
            " [-3.14710875e+00 -3.14982535e+00 -3.12603626e+00 -3.12196507e+00]\n",
            " [-5.66378876e+00 -5.55178037e+00 -5.76986479e+00 -5.54679197e+00]\n",
            " [-5.37006480e+00 -5.23886762e+00 -5.44231575e+00 -5.00204901e+00]\n",
            " [-5.02707914e+00 -4.80054834e+00 -5.03664986e+00 -4.90052770e+00]\n",
            " [-4.56657087e+00 -1.81994109e+00 -4.66435100e+00 -1.28613621e+01]\n",
            " [-3.65428077e+00 -3.87964346e+00 -2.69073029e+00 -5.85682117e-01]\n",
            " [-3.84695759e+00 -2.61472939e+00 -4.05090894e+00 -3.77610190e+00]\n",
            " [-3.72456803e+00 -7.40916685e-02 -3.79859416e+00 -3.46721589e+00]\n",
            " [-3.35608753e+00 -3.11636930e+00 -3.47211228e+00  2.07395769e+00]\n",
            " [-3.02143444e+00 -2.89977086e+00 -3.28240406e+00 -2.62508494e+00]\n",
            " [-2.72096664e+00 -2.68011931e+00 -3.02675026e+00 -2.34646001e+00]\n",
            " [-5.20468929e+00 -5.11062395e+00 -5.40331487e+00 -4.99864611e+00]\n",
            " [-4.86766847e+00 -4.79764703e+00 -5.03707571e+00 -3.99028804e+00]\n",
            " [-4.56707765e+00 -1.25439564e+01 -4.68926060e+00 -3.62833081e+00]\n",
            " [-3.90674515e+00 -3.67281664e+00 -3.74585213e+00 -1.52252104e+00]\n",
            " [-1.20922538e+01 -3.01271310e+00 -2.73396112e+00  4.60353203e-01]\n",
            " [-3.38141502e+00 -9.27994887e-01 -3.64984870e+00 -1.17252990e+01]\n",
            " [-3.49600329e+00  1.69865046e+00 -3.65204432e+00 -3.02956389e+00]\n",
            " [-2.96331171e+00 -2.31830113e+00 -2.82256396e+00  4.12868607e+00]\n",
            " [-2.75077700e+00 -2.38452156e+00 -2.98786388e+00  2.32836187e-01]\n",
            " [-2.61115556e+00 -2.17698623e+00 -2.38506312e+00 -5.93136582e-01]\n",
            " [-4.71792176e+00 -4.03217239e+00 -4.84644021e+00 -4.71457510e+00]\n",
            " [-4.57422623e+00 -2.41739058e+00 -4.65760864e+00 -4.54153704e+00]\n",
            " [-4.11127081e+00 -1.06470224e+00 -4.31740452e+00 -4.05329891e+00]\n",
            " [-3.80570384e+00  4.20694587e-01 -1.24602244e+01 -3.47197242e+00]\n",
            " [-1.45771674e+00 -1.17624047e+01 -1.28738818e+00  1.62261467e+00]\n",
            " [-2.70068718e+00 -2.55538118e+00 -3.56496139e+00 -8.21878941e-01]\n",
            " [-1.16303120e+01  7.27559630e-01 -3.09170678e+00 -2.00618748e+00]\n",
            " [-2.31577075e+00 -1.54769216e+00 -1.47186222e+00  5.88518937e+00]\n",
            " [-2.37340858e+00 -1.84858801e+00 -2.56348218e+00  4.12409777e+00]\n",
            " [-1.99717166e+00 -1.58519532e+00 -2.36482493e+00  2.61378126e+00]\n",
            " [-4.34778784e+00 -4.33578517e+00 -4.41447166e+00 -4.34969499e+00]\n",
            " [-4.14981269e+00 -4.08422141e+00 -4.19039853e+00 -4.00269004e+00]\n",
            " [-3.87088024e+00 -2.99462098e+00 -3.75738823e+00 -3.68365838e+00]\n",
            " [-3.74327831e+00  5.45616056e-01 -3.19425914e+00 -2.75999646e+00]\n",
            " [-1.91732305e+00 -7.20612878e-01 -4.78236769e-01  2.91401630e+00]\n",
            " [-2.09504096e+00  2.84201933e+00 -1.14036747e+01 -1.67178616e+00]\n",
            " [-2.19461750e+00  5.37236391e+00 -2.44523548e+00 -6.62965063e+00]\n",
            " [-1.15786344e+00  1.42228928e+00 -3.30247675e-01  7.71193435e+00]\n",
            " [ 6.35314005e-01  3.31607814e-01 -1.74484373e+00  8.08067723e+00]\n",
            " [ 7.92094265e-02 -3.28758501e-01 -1.99585670e+00  9.01015700e+00]\n",
            " [-4.03968031e+00 -3.95938603e+00 -3.97201673e+00 -3.97640217e+00]\n",
            " [-3.70036393e+00 -2.90267289e+00 -3.77684265e+00 -3.75173007e+00]\n",
            " [-3.64404499e+00 -8.55923835e-01 -3.53877949e+00 -1.17541100e+01]\n",
            " [-3.28848088e+00  2.45767008e+00 -3.33142208e+00 -2.20020760e+00]\n",
            " [-5.77531380e-01  3.68592038e+00  4.28551378e-01  4.34890700e+00]\n",
            " [-9.91111009e-01 -7.68777496e+00 -2.11224777e+00  5.88428606e+00]\n",
            " [-2.04800446e+00 -1.66713312e-02 -1.29935244e+00  7.57298755e+00]\n",
            " [-7.22231227e+00  3.81119827e+00  1.62132166e+00  9.68293394e+00]\n",
            " [ 3.78975955e+00  1.13095117e+01 -4.54093476e-01  4.36037447e+00]\n",
            " [ 3.90292466e+00  6.20653545e+00  3.41944559e+00  1.41759663e+01]\n",
            " [-3.66378064e+00 -3.62615863e+00 -3.72155221e+00 -3.61404091e+00]\n",
            " [-3.62355190e+00 -1.14723046e+01 -3.63660792e+00 -3.21269474e+00]\n",
            " [-2.96864759e+00 -2.54125202e+00 -2.95344558e+00 -2.21446658e+00]\n",
            " [-1.13793538e+01  3.01397492e+00 -2.42708554e+00 -1.98291313e+00]\n",
            " [-1.56004763e-02  5.94323000e+00  2.32749590e+00  3.74938227e+00]\n",
            " [ 3.09047989e+00  7.71470000e+00  3.09464558e+00  5.98505672e+00]\n",
            " [ 5.26401179e+00  9.68300000e+00 -4.20132130e+00  9.11974312e+00]\n",
            " [ 7.51110210e+00  1.08584200e+01  7.38625049e+00  1.18700000e+01]\n",
            " [ 5.92039113e+00  1.40236048e+01  2.72072490e+00  1.37333668e+00]\n",
            " [ 6.87586281e+00  1.26392187e+01  9.45017480e+00  1.69879240e+01]\n",
            " [-3.32743753e+00 -3.12467272e+00 -3.23533012e+00 -3.20187760e+00]\n",
            " [-3.04954581e+00 -1.87054475e+00 -3.39890330e+00 -2.90647880e+00]\n",
            " [-3.03987580e+00  4.40351727e-01 -1.09063427e+01 -1.91922483e+00]\n",
            " [-2.43731217e+00  7.21432954e-01 -2.38878853e+00  3.34140185e+00]\n",
            " [-1.08467676e+00  1.71033309e+00 -1.58813540e+00  7.04946424e+00]\n",
            " [ 5.95218993e-01  9.35423628e+00  5.70029758e-02  2.78608142e+00]\n",
            " [ 2.88135908e+00  1.18690409e+01  5.12561880e+00  5.72103370e+00]\n",
            " [ 9.44182767e+00  5.02014307e+00  9.51854853e+00  1.43000000e+01]\n",
            " [ 9.87868939e+00  1.47525243e+01  2.94017188e+00  1.69982518e+01]\n",
            " [ 2.71873806e+00  1.21248047e+01  1.05937199e+01  1.99983072e+01]\n",
            " [-2.96930132e+00 -2.89587558e+00 -3.01334853e+00 -3.14994731e+00]\n",
            " [-2.84238684e+00 -1.74958984e+00 -2.78847460e+00 -2.70233540e+00]\n",
            " [-2.54046671e+00  1.69244188e+00 -2.75145166e+00 -1.97925293e+00]\n",
            " [-1.87815378e+00  6.61024889e+00 -1.42544299e+00  9.27373975e-02]\n",
            " [ 9.91924835e-01  9.52904392e+00  8.15514682e-01  3.84453642e+00]\n",
            " [ 5.31431930e+00  1.18207025e+01  3.54638209e+00  6.64208412e+00]\n",
            " [ 5.95868489e+00  1.42990956e+01  6.82148083e+00  9.22815460e+00]\n",
            " [ 1.17372530e+01  1.70000000e+01  1.18348120e+01  1.42875668e+01]\n",
            " [ 1.41666112e+01  2.00000000e+01  5.24486075e+00  1.68870119e+01]\n",
            " [ 0.00000000e+00  0.00000000e+00  0.00000000e+00  0.00000000e+00]]\n"
          ]
        }
      ]
    }
  ]
}